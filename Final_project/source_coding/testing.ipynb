{
 "cells": [
  {
   "cell_type": "code",
   "execution_count": 3,
   "metadata": {},
   "outputs": [],
   "source": [
    "import pandas as pd\n",
    "import pickle"
   ]
  },
  {
   "cell_type": "code",
   "execution_count": 20,
   "metadata": {},
   "outputs": [],
   "source": [
    "with open(\"/Users/shanthakumark/Desktop/Sharing/Final_project/pickle_files/Best2.pkl\",\"rb\") as best_param:\n",
    "        best_param = pickle.load(best_param)\n",
    "\n",
    "with open(\"/Users/shanthakumark/Desktop/Sharing/Final_project/pickle_files/first_copy.pkl\",\"rb\") as w_o_encoding:\n",
    "        without_en = pickle.load(w_o_encoding)\n",
    "\n",
    "with open(\"/Users/shanthakumark/Desktop/Sharing/Final_project/pickle_files/f_data.pkl\",\"rb\") as a_encoding:\n",
    "        a_encode = pickle.load(a_encoding)"
   ]
  },
  {
   "cell_type": "code",
   "execution_count": 21,
   "metadata": {},
   "outputs": [
    {
     "data": {
      "text/plain": [
       "Index(['ORGANIZATION_TYPE', 'WEEKDAY_APPR_PROCESS_START_x', 'OCCUPATION_TYPE',\n",
       "       'NAME_FAMILY_STATUS'],\n",
       "      dtype='object')"
      ]
     },
     "execution_count": 21,
     "metadata": {},
     "output_type": "execute_result"
    }
   ],
   "source": [
    "without_en[best_param[\"COL\"]].select_dtypes([\"object\"]).columns"
   ]
  },
  {
   "cell_type": "code",
   "execution_count": 22,
   "metadata": {},
   "outputs": [],
   "source": [
    "columns_cat = ['ORGANIZATION_TYPE', 'WEEKDAY_APPR_PROCESS_START_x', 'OCCUPATION_TYPE',\n",
    "       'NAME_FAMILY_STATUS']"
   ]
  },
  {
   "cell_type": "code",
   "execution_count": 23,
   "metadata": {},
   "outputs": [],
   "source": [
    "# Assuming wo_encoding is your dataframe and columns_cat is the list of column names\n",
    "column_unique_values = {col: without_en[col].unique() for col in columns_cat}\n",
    "\n",
    "column_unique_values_a = {col: a_encode[col].unique() for col in columns_cat}\n",
    "\n",
    "# Now you can access unique values of each column using:\n",
    "# column_unique_values['COLUMN_NAME']\n"
   ]
  },
  {
   "cell_type": "code",
   "execution_count": 24,
   "metadata": {},
   "outputs": [],
   "source": [
    "NAME_FAMILY_STATUS = dict(zip(column_unique_values[\"NAME_FAMILY_STATUS\"],column_unique_values_a[\"NAME_FAMILY_STATUS\"]))\n",
    "OCCUPATION_TYPE = dict(zip(column_unique_values[\"OCCUPATION_TYPE\"],column_unique_values_a[\"OCCUPATION_TYPE\"]))\n",
    "ORGANIZATION_TYPE = dict(zip(column_unique_values[\"ORGANIZATION_TYPE\"],column_unique_values_a[\"ORGANIZATION_TYPE\"]))\n",
    "WEEKDAY_APPR_PROCESS_START_x = dict(zip(column_unique_values[\"WEEKDAY_APPR_PROCESS_START_x\"],column_unique_values_a[\"WEEKDAY_APPR_PROCESS_START_x\"]))"
   ]
  },
  {
   "cell_type": "code",
   "execution_count": 16,
   "metadata": {},
   "outputs": [],
   "source": [
    "with open(\"/Users/shanthakumark/Desktop/Sharing/Final_project/pickle_files/WEEKDAY_APPR_PROCESS_START_x_best2.pkl\",\"wb\") as week_day:\n",
    "    pickle.dump(WEEKDAY_APPR_PROCESS_START_x,week_day)\n",
    "\n",
    "with open(\"/Users/shanthakumark/Desktop/Sharing/Final_project/pickle_files/ORGANIZATION_TYPE_best2.pkl\",\"wb\") as org_type_best2:\n",
    "    pickle.dump(ORGANIZATION_TYPE,org_type_best2)\n",
    "\n",
    "with open(\"/Users/shanthakumark/Desktop/Sharing/Final_project/pickle_files/OCCUPATION_TYPE_best2.pkl\",\"wb\") as OCCUPATION_TYPE_best2:\n",
    "    pickle.dump(OCCUPATION_TYPE,OCCUPATION_TYPE_best2)\n",
    "    \n",
    "with open(\"/Users/shanthakumark/Desktop/Sharing/Final_project/pickle_files/NAME_FAMILY_STATUS_best2.pkl\",\"wb\") as NAME_FAMILY_STATUS_best2:\n",
    "    pickle.dump(NAME_FAMILY_STATUS,NAME_FAMILY_STATUS_best2)"
   ]
  },
  {
   "cell_type": "code",
   "execution_count": 110,
   "metadata": {},
   "outputs": [
    {
     "name": "stdout",
     "output_type": "stream",
     "text": [
      "1 EXT_SOURCE_2\n",
      "2 EXT_SOURCE_3\n",
      "3 SK_ID_CURR\n",
      "4 AMT_ANNUITY_x\n",
      "5 EXT_SOURCE_1\n",
      "6 REGION_POPULATION_RELATIVE\n",
      "7 AMT_CREDIT_x\n",
      "8 AMT_INCOME_TOTAL\n",
      "9 AMT_REQ_CREDIT_BUREAU_YEAR\n",
      "10 HOUR_APPR_PROCESS_START_x\n",
      "11 AMT_GOODS_PRICE_x\n",
      "12 ORGANIZATION_TYPE\n",
      "13 WEEKDAY_APPR_PROCESS_START_x\n",
      "14 OCCUPATION_TYPE\n",
      "15 OWN_CAR_AGE\n",
      "16 NAME_FAMILY_STATUS\n",
      "17 LIVINGAREA_MODE\n"
     ]
    }
   ],
   "source": [
    "for i in range(len(without_en[best_param[\"COL\"]].columns)):\n",
    "    print(i+1,without_en[best_param[\"COL\"]].columns[i])"
   ]
  },
  {
   "cell_type": "code",
   "execution_count": 104,
   "metadata": {},
   "outputs": [
    {
     "data": {
      "text/plain": [
       "'Widow'"
      ]
     },
     "execution_count": 104,
     "metadata": {},
     "output_type": "execute_result"
    }
   ],
   "source": [
    "without_en[\"NAME_FAMILY_STATUS\"].max()"
   ]
  },
  {
   "cell_type": "code",
   "execution_count": null,
   "metadata": {},
   "outputs": [],
   "source": []
  },
  {
   "cell_type": "code",
   "execution_count": null,
   "metadata": {},
   "outputs": [],
   "source": []
  },
  {
   "cell_type": "code",
   "execution_count": null,
   "metadata": {},
   "outputs": [],
   "source": []
  },
  {
   "cell_type": "code",
   "execution_count": 10,
   "metadata": {},
   "outputs": [
    {
     "name": "stdout",
     "output_type": "stream",
     "text": [
      "Srikanth\n",
      "Shanth\n",
      "Hi\n",
      "How\n",
      "are\n",
      "you\n"
     ]
    },
    {
     "data": {
      "text/plain": [
       "[None, None, None, None, None, None]"
      ]
     },
     "execution_count": 10,
     "metadata": {},
     "output_type": "execute_result"
    }
   ],
   "source": [
    "list_ = [\"Srikanth\",\"Shanth\",\"Hi\",\"How\",\"are\",\"you\"]\n",
    "[print(i) for i in list_]"
   ]
  },
  {
   "cell_type": "code",
   "execution_count": null,
   "metadata": {},
   "outputs": [],
   "source": []
  }
 ],
 "metadata": {
  "kernelspec": {
   "display_name": "Python 3",
   "language": "python",
   "name": "python3"
  },
  "language_info": {
   "codemirror_mode": {
    "name": "ipython",
    "version": 3
   },
   "file_extension": ".py",
   "mimetype": "text/x-python",
   "name": "python",
   "nbconvert_exporter": "python",
   "pygments_lexer": "ipython3",
   "version": "3.12.3"
  }
 },
 "nbformat": 4,
 "nbformat_minor": 2
}
